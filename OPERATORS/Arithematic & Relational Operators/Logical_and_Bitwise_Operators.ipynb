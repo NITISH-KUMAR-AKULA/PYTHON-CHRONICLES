{
  "nbformat": 4,
  "nbformat_minor": 0,
  "metadata": {
    "colab": {
      "provenance": []
    },
    "kernelspec": {
      "name": "python3",
      "display_name": "Python 3"
    },
    "language_info": {
      "name": "python"
    }
  },
  "cells": [
    {
      "cell_type": "markdown",
      "source": [
        "# **Logical Operators**"
      ],
      "metadata": {
        "id": "m6_ppJ_Bq_Yd"
      }
    },
    {
      "cell_type": "markdown",
      "source": [
        "1. AND (if any one condition is False entire False)\n",
        "2. OR (if any one condition is True entire True)\n",
        "3. NOT"
      ],
      "metadata": {
        "id": "2pAKL2nUrKC_"
      }
    },
    {
      "cell_type": "code",
      "execution_count": 4,
      "metadata": {
        "id": "RiScT4U1q18P"
      },
      "outputs": [],
      "source": [
        "# LOGICAL and\n",
        "a = 34\n",
        "b =23\n",
        "c =28"
      ]
    },
    {
      "cell_type": "code",
      "source": [
        "# conditional\n",
        "(a<b) and (c>a) # False and Flase = False"
      ],
      "metadata": {
        "colab": {
          "base_uri": "https://localhost:8080/"
        },
        "id": "n-TsJS_vrUpt",
        "outputId": "21e49434-65e2-4783-9dbf-058256265866"
      },
      "execution_count": 6,
      "outputs": [
        {
          "output_type": "execute_result",
          "data": {
            "text/plain": [
              "False"
            ]
          },
          "metadata": {},
          "execution_count": 6
        }
      ]
    },
    {
      "cell_type": "code",
      "source": [
        "(a>b) and (c>a) # True and False = False"
      ],
      "metadata": {
        "colab": {
          "base_uri": "https://localhost:8080/"
        },
        "id": "pMeTBFrerhOO",
        "outputId": "80078914-0193-4ade-9fcc-748b06f0d493"
      },
      "execution_count": 7,
      "outputs": [
        {
          "output_type": "execute_result",
          "data": {
            "text/plain": [
              "False"
            ]
          },
          "metadata": {},
          "execution_count": 7
        }
      ]
    },
    {
      "cell_type": "code",
      "source": [
        "(a>b) and (c<a)  #True and True = True"
      ],
      "metadata": {
        "colab": {
          "base_uri": "https://localhost:8080/"
        },
        "id": "2rm0WzfMrs9_",
        "outputId": "ff87a118-6d75-4cd6-d3ef-12f49a8bfd0d"
      },
      "execution_count": 8,
      "outputs": [
        {
          "output_type": "execute_result",
          "data": {
            "text/plain": [
              "True"
            ]
          },
          "metadata": {},
          "execution_count": 8
        }
      ]
    },
    {
      "cell_type": "code",
      "source": [
        "# numbers\n",
        "23 and 41 # alwasy return the last value in the numbers"
      ],
      "metadata": {
        "colab": {
          "base_uri": "https://localhost:8080/"
        },
        "id": "9wzaf2hysG0R",
        "outputId": "4118bf67-c0aa-43c7-a283-a537d9b97b25"
      },
      "execution_count": 10,
      "outputs": [
        {
          "output_type": "execute_result",
          "data": {
            "text/plain": [
              "41"
            ]
          },
          "metadata": {},
          "execution_count": 10
        }
      ]
    },
    {
      "cell_type": "code",
      "source": [
        "1234 and 1"
      ],
      "metadata": {
        "colab": {
          "base_uri": "https://localhost:8080/"
        },
        "id": "i4iw7P61sGyI",
        "outputId": "877d452b-b317-4efa-dd55-7cfaec3d2be7"
      },
      "execution_count": 11,
      "outputs": [
        {
          "output_type": "execute_result",
          "data": {
            "text/plain": [
              "1"
            ]
          },
          "metadata": {},
          "execution_count": 11
        }
      ]
    },
    {
      "cell_type": "code",
      "source": [
        "#Logical or\n",
        "# conditional\n",
        "(a<b) or (c>a) # False or Flase = False"
      ],
      "metadata": {
        "colab": {
          "base_uri": "https://localhost:8080/"
        },
        "id": "vYbb2WQvrwL4",
        "outputId": "15185c02-779f-4d7d-bf44-7ea0d26316bf"
      },
      "execution_count": 12,
      "outputs": [
        {
          "output_type": "execute_result",
          "data": {
            "text/plain": [
              "False"
            ]
          },
          "metadata": {},
          "execution_count": 12
        }
      ]
    },
    {
      "cell_type": "code",
      "source": [
        "(a>b) or (c>a) # True or False = True"
      ],
      "metadata": {
        "colab": {
          "base_uri": "https://localhost:8080/"
        },
        "id": "kN4GidLmsWQU",
        "outputId": "814ef3d1-9f89-4948-ac5c-04c73fba2817"
      },
      "execution_count": 13,
      "outputs": [
        {
          "output_type": "execute_result",
          "data": {
            "text/plain": [
              "True"
            ]
          },
          "metadata": {},
          "execution_count": 13
        }
      ]
    },
    {
      "cell_type": "code",
      "source": [
        "(a>b) or (c<a)  #True or True = True"
      ],
      "metadata": {
        "colab": {
          "base_uri": "https://localhost:8080/"
        },
        "id": "Qxx7mBPhsb89",
        "outputId": "95092b6f-d9dd-4a77-b2cd-56876fa0bc62"
      },
      "execution_count": 14,
      "outputs": [
        {
          "output_type": "execute_result",
          "data": {
            "text/plain": [
              "True"
            ]
          },
          "metadata": {},
          "execution_count": 14
        }
      ]
    },
    {
      "cell_type": "code",
      "source": [
        "# numbers\n",
        "23 or 41 # always return the First value in the numbers"
      ],
      "metadata": {
        "colab": {
          "base_uri": "https://localhost:8080/"
        },
        "id": "MTtGYUCtsgXl",
        "outputId": "b4e39a07-e132-4f70-eb8b-a726bc43c96f"
      },
      "execution_count": 23,
      "outputs": [
        {
          "output_type": "execute_result",
          "data": {
            "text/plain": [
              "23"
            ]
          },
          "metadata": {},
          "execution_count": 23
        }
      ]
    },
    {
      "cell_type": "code",
      "source": [
        "1243 or 124"
      ],
      "metadata": {
        "colab": {
          "base_uri": "https://localhost:8080/"
        },
        "id": "1xrxsgd_tB1x",
        "outputId": "787edfa4-cc38-4d93-9cf1-1d4a80624a96"
      },
      "execution_count": 19,
      "outputs": [
        {
          "output_type": "execute_result",
          "data": {
            "text/plain": [
              "1243"
            ]
          },
          "metadata": {},
          "execution_count": 19
        }
      ]
    },
    {
      "cell_type": "code",
      "source": [
        "12 or 1"
      ],
      "metadata": {
        "colab": {
          "base_uri": "https://localhost:8080/"
        },
        "id": "oKqoLKtDtFQ5",
        "outputId": "dd6e575c-0a0e-4cfa-815b-05736638b8c5"
      },
      "execution_count": 20,
      "outputs": [
        {
          "output_type": "execute_result",
          "data": {
            "text/plain": [
              "12"
            ]
          },
          "metadata": {},
          "execution_count": 20
        }
      ]
    },
    {
      "cell_type": "code",
      "source": [
        "1 or 12"
      ],
      "metadata": {
        "colab": {
          "base_uri": "https://localhost:8080/"
        },
        "id": "-LvvuKTdtIkx",
        "outputId": "57044b93-3eed-41ec-e54c-0d0c3e3daa27"
      },
      "execution_count": 21,
      "outputs": [
        {
          "output_type": "execute_result",
          "data": {
            "text/plain": [
              "1"
            ]
          },
          "metadata": {},
          "execution_count": 21
        }
      ]
    },
    {
      "cell_type": "code",
      "source": [
        "# Logical Not (only applicable to one condition)\n",
        "(a>b) # True\n",
        "not (a>b) # not True = False"
      ],
      "metadata": {
        "colab": {
          "base_uri": "https://localhost:8080/"
        },
        "id": "imMBwsGstJ5Z",
        "outputId": "b97947c9-a5df-4561-a913-9c40e10e5c26"
      },
      "execution_count": 24,
      "outputs": [
        {
          "output_type": "execute_result",
          "data": {
            "text/plain": [
              "False"
            ]
          },
          "metadata": {},
          "execution_count": 24
        }
      ]
    },
    {
      "cell_type": "code",
      "source": [
        "c<a # True\n",
        "not c < a # not True = False"
      ],
      "metadata": {
        "colab": {
          "base_uri": "https://localhost:8080/"
        },
        "id": "MwxuV8cktoPV",
        "outputId": "9396d0d5-8465-43cb-f1a3-ab242e4c30e6"
      },
      "execution_count": 26,
      "outputs": [
        {
          "output_type": "execute_result",
          "data": {
            "text/plain": [
              "False"
            ]
          },
          "metadata": {},
          "execution_count": 26
        }
      ]
    },
    {
      "cell_type": "markdown",
      "source": [
        "# **BitWise Operators**"
      ],
      "metadata": {
        "id": "xfjxd7EfuB6X"
      }
    },
    {
      "cell_type": "markdown",
      "source": [
        "1. bitwise and (&)\n",
        "2. bitwise or (|)\n",
        "3. bitwise not(~)\n",
        "4. bitwise xor (^)"
      ],
      "metadata": {
        "id": "VBNPYN2kuK1K"
      }
    },
    {
      "cell_type": "code",
      "source": [
        "# Bitwise and (&)\n",
        "34 & 45 # performs binary and operation and converts resulted binary into decimal\n"
      ],
      "metadata": {
        "colab": {
          "base_uri": "https://localhost:8080/"
        },
        "id": "fk0jwGN_trCl",
        "outputId": "ea9e618f-30dd-4374-93e3-07f81f7708e2"
      },
      "execution_count": 28,
      "outputs": [
        {
          "output_type": "execute_result",
          "data": {
            "text/plain": [
              "32"
            ]
          },
          "metadata": {},
          "execution_count": 28
        }
      ]
    },
    {
      "cell_type": "code",
      "source": [
        "65 & 24"
      ],
      "metadata": {
        "colab": {
          "base_uri": "https://localhost:8080/"
        },
        "id": "BSu9C8yiu2_0",
        "outputId": "b4f71b87-f4b2-40d6-915a-da1c13cc0c86"
      },
      "execution_count": 30,
      "outputs": [
        {
          "output_type": "execute_result",
          "data": {
            "text/plain": [
              "0"
            ]
          },
          "metadata": {},
          "execution_count": 30
        }
      ]
    },
    {
      "cell_type": "code",
      "source": [
        "# bitwise or (|)\n",
        "34 | 45 # performs binary or operation and converts binary into decimal"
      ],
      "metadata": {
        "colab": {
          "base_uri": "https://localhost:8080/"
        },
        "id": "SZrNaayivOn_",
        "outputId": "a70ea2f9-7009-4f64-a392-402c2c7186f8"
      },
      "execution_count": 31,
      "outputs": [
        {
          "output_type": "execute_result",
          "data": {
            "text/plain": [
              "47"
            ]
          },
          "metadata": {},
          "execution_count": 31
        }
      ]
    },
    {
      "cell_type": "code",
      "source": [
        "34 | 12\n"
      ],
      "metadata": {
        "colab": {
          "base_uri": "https://localhost:8080/"
        },
        "id": "UvszUvjHvcGK",
        "outputId": "66edc32a-40c3-4835-cf75-bfe5578bc1dd"
      },
      "execution_count": 32,
      "outputs": [
        {
          "output_type": "execute_result",
          "data": {
            "text/plain": [
              "46"
            ]
          },
          "metadata": {},
          "execution_count": 32
        }
      ]
    },
    {
      "cell_type": "code",
      "source": [
        "# BITWISE NOT (~) # FORMULA -(X+1)\n",
        "~34 # -(34 +1)"
      ],
      "metadata": {
        "colab": {
          "base_uri": "https://localhost:8080/"
        },
        "id": "Q-g_SDLOvrsa",
        "outputId": "309c4d03-7ded-4f9a-adec-de8235792bb8"
      },
      "execution_count": 37,
      "outputs": [
        {
          "output_type": "execute_result",
          "data": {
            "text/plain": [
              "-35"
            ]
          },
          "metadata": {},
          "execution_count": 37
        }
      ]
    },
    {
      "cell_type": "code",
      "source": [
        "~24 # -(24+1)"
      ],
      "metadata": {
        "colab": {
          "base_uri": "https://localhost:8080/"
        },
        "id": "PkayqAwvwTwV",
        "outputId": "cd9d372d-73c8-40f4-a6ce-de485e039576"
      },
      "execution_count": 38,
      "outputs": [
        {
          "output_type": "execute_result",
          "data": {
            "text/plain": [
              "-25"
            ]
          },
          "metadata": {},
          "execution_count": 38
        }
      ]
    },
    {
      "cell_type": "code",
      "source": [
        "~-23 # -(-23+1)"
      ],
      "metadata": {
        "colab": {
          "base_uri": "https://localhost:8080/"
        },
        "id": "onpKlybxwTtM",
        "outputId": "d3febb92-9386-472a-b750-892fab617a29"
      },
      "execution_count": 40,
      "outputs": [
        {
          "output_type": "execute_result",
          "data": {
            "text/plain": [
              "22"
            ]
          },
          "metadata": {},
          "execution_count": 40
        }
      ]
    },
    {
      "cell_type": "code",
      "source": [
        "#bitwise xor(^)\n",
        "23 ^ 34 # it only returns 1 for odd number of 1 in the comparision of the two numbers in binary form"
      ],
      "metadata": {
        "colab": {
          "base_uri": "https://localhost:8080/"
        },
        "id": "3GzNh3hUw0Yi",
        "outputId": "35fe4cab-48fc-483c-f796-c26aa0773f62"
      },
      "execution_count": 45,
      "outputs": [
        {
          "output_type": "execute_result",
          "data": {
            "text/plain": [
              "53"
            ]
          },
          "metadata": {},
          "execution_count": 45
        }
      ]
    },
    {
      "cell_type": "code",
      "source": [
        "bin(23)"
      ],
      "metadata": {
        "colab": {
          "base_uri": "https://localhost:8080/",
          "height": 35
        },
        "id": "5QhF_4qZxvzh",
        "outputId": "d31e1223-f5ae-452b-95ea-6fdc126c79c7"
      },
      "execution_count": 46,
      "outputs": [
        {
          "output_type": "execute_result",
          "data": {
            "text/plain": [
              "'0b10111'"
            ],
            "application/vnd.google.colaboratory.intrinsic+json": {
              "type": "string"
            }
          },
          "metadata": {},
          "execution_count": 46
        }
      ]
    },
    {
      "cell_type": "code",
      "source": [
        "bin(34)"
      ],
      "metadata": {
        "colab": {
          "base_uri": "https://localhost:8080/",
          "height": 35
        },
        "id": "T_tPMorFxoWw",
        "outputId": "2049d90f-bf4a-4087-d133-e429beebad66"
      },
      "execution_count": 47,
      "outputs": [
        {
          "output_type": "execute_result",
          "data": {
            "text/plain": [
              "'0b100010'"
            ],
            "application/vnd.google.colaboratory.intrinsic+json": {
              "type": "string"
            }
          },
          "metadata": {},
          "execution_count": 47
        }
      ]
    },
    {
      "cell_type": "code",
      "source": [
        "bin(53) #"
      ],
      "metadata": {
        "colab": {
          "base_uri": "https://localhost:8080/",
          "height": 35
        },
        "id": "0NFCSkWLxuNJ",
        "outputId": "bc571d43-a363-447c-85b3-0241d5bbea5b"
      },
      "execution_count": 48,
      "outputs": [
        {
          "output_type": "execute_result",
          "data": {
            "text/plain": [
              "'0b110101'"
            ],
            "application/vnd.google.colaboratory.intrinsic+json": {
              "type": "string"
            }
          },
          "metadata": {},
          "execution_count": 48
        }
      ]
    },
    {
      "cell_type": "markdown",
      "source": [
        "#Explaination"
      ],
      "metadata": {
        "id": "XzxSu-SCzFv7"
      }
    },
    {
      "cell_type": "markdown",
      "source": [
        "23 = 0 1 0 1 1 1\n",
        "\n",
        "34 = 1 0 0 0 1 0\n",
        "\n",
        "------------------\n",
        "     1 1 0 1 0 1      \n",
        "------------------\n",
        "\n",
        "53 = 1 1 0 1 0 1\n",
        "\n",
        "AS 1 AND 1 has two even ones so 0\n",
        "\n"
      ],
      "metadata": {
        "id": "WKUTjdSkyUP1"
      }
    }
  ]
}