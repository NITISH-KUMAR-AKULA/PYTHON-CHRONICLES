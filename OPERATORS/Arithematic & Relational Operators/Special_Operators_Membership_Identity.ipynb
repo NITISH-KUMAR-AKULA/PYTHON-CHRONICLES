{
 "cells": [
  {
   "cell_type": "markdown",
   "id": "e07f8652",
   "metadata": {},
   "source": [
    "# 🔍 Python Special Operators: Membership & Identity"
   ]
  },
  {
   "cell_type": "markdown",
   "id": "e05d204b",
   "metadata": {},
   "source": [
    "In Python, apart from arithmetic, relational, logical, and bitwise operators,  \n",
    "we also have **Special Operators**:  \n",
    "\n",
    "1. **Membership Operators** → `in`, `not in`  \n",
    "   - Used to check if a value exists in a sequence (like list, tuple, string, etc.).  \n",
    "\n",
    "2. **Identity Operators** → `is`, `is not`  \n",
    "   - Used to compare the memory location (identity) of two objects.  \n"
   ]
  },
  {
   "cell_type": "markdown",
   "id": "3a77577b",
   "metadata": {},
   "source": [
    "## ✅ Membership Operators (`in`, `not in`)"
   ]
  },
  {
   "cell_type": "code",
   "execution_count": null,
   "id": "a5e8ffc8",
   "metadata": {},
   "outputs": [],
   "source": [
    "# Example 1: Using 'in' with a list\n",
    "fruits = [\"apple\", \"banana\", \"cherry\"]\n",
    "print(\"apple\" in fruits)   # True\n",
    "print(\"mango\" in fruits)   # False\n",
    "\n",
    "# Example 2: Using 'not in' with a string\n",
    "name = \"DEMON\"\n",
    "print(\"D\" in name)         # True\n",
    "print(\"z\" not in name)     # True\n"
   ]
  },
  {
   "cell_type": "markdown",
   "id": "bc4cd562",
   "metadata": {},
   "source": [
    "## ✅ Identity Operators (`is`, `is not`)"
   ]
  },
  {
   "cell_type": "code",
   "execution_count": null,
   "id": "98737534",
   "metadata": {},
   "outputs": [],
   "source": [
    "# Example 1: Comparing objects with 'is'\n",
    "x = [1, 2, 3]\n",
    "y = x       # y points to the same object as x\n",
    "z = [1, 2, 3]\n",
    "\n",
    "print(x is y)     # True → because y references the same object as x\n",
    "print(x is z)     # False → because z is a different object with same values\n",
    "\n",
    "# Example 2: Using 'is not'\n",
    "print(x is not z) # True → x and z are different objects\n"
   ]
  },
  {
   "cell_type": "markdown",
   "id": "59cce62a",
   "metadata": {},
   "source": [
    "### 📝 Key Takeaways\n",
    "- `in` and `not in` → Check membership in a sequence.  \n",
    "- `is` and `is not` → Check whether two variables refer to the **same object in memory**, not just equal values.  \n",
    "\n",
    "🔑 **Tip**: Use `==` for value comparison and `is` for identity comparison.  \n"
   ]
  }
 ],
 "metadata": {},
 "nbformat": 4,
 "nbformat_minor": 5
}