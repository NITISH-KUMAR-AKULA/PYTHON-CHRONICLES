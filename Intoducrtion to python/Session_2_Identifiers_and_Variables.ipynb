{
 "cells": [
  {
   "cell_type": "markdown",
   "id": "bff2c6b9",
   "metadata": {},
   "source": [
    "# 🐍 Python Session 2 – Identifiers and Variables"
   ]
  },
  {
   "cell_type": "markdown",
   "id": "f778dfec",
   "metadata": {},
   "source": [
    "## Identifiers\n",
    "Identifiers are names used to identify variables, functions, classes, etc.\n",
    "\n",
    "**Rules:**\n",
    "1. Must start with a letter or underscore\n",
    "2. Cannot start with a digit\n",
    "3. Can contain letters, digits, and underscores\n",
    "4. Case-sensitive\n",
    "5. Cannot be Python keywords"
   ]
  },
  {
   "cell_type": "code",
   "execution_count": null,
   "id": "3cdae523",
   "metadata": {},
   "outputs": [],
   "source": [
    "# Valid identifiers\n",
    "my_var = 10\n",
    "_var = 20\n",
    "var123 = 30\n",
    "print(my_var, _var, var123)"
   ]
  },
  {
   "cell_type": "code",
   "execution_count": null,
   "id": "c3d7a4bc",
   "metadata": {},
   "outputs": [],
   "source": [
    "# Invalid identifiers (will throw errors)\n",
    "# 123var = 50\n",
    "# my-var = 60\n",
    "# class = 70"
   ]
  },
  {
   "cell_type": "markdown",
   "id": "e5979078",
   "metadata": {},
   "source": [
    "## Variables\n",
    "Python is dynamically typed."
   ]
  },
  {
   "cell_type": "code",
   "execution_count": null,
   "id": "8d37b7bd",
   "metadata": {},
   "outputs": [],
   "source": [
    "x = 10\n",
    "print(x, type(x))\n",
    "\n",
    "x = \"Hello\"\n",
    "print(x, type(x))"
   ]
  },
  {
   "cell_type": "markdown",
   "id": "30557176",
   "metadata": {},
   "source": [
    "### Multiple assignments"
   ]
  },
  {
   "cell_type": "code",
   "execution_count": null,
   "id": "14e19045",
   "metadata": {},
   "outputs": [],
   "source": [
    "a, b, c = 1, 2, 3\n",
    "print(a, b, c)"
   ]
  },
  {
   "cell_type": "markdown",
   "id": "57fc59e4",
   "metadata": {},
   "source": [
    "### Memory reference using id()"
   ]
  },
  {
   "cell_type": "code",
   "execution_count": null,
   "id": "ff46e7be",
   "metadata": {},
   "outputs": [],
   "source": [
    "x = 100\n",
    "y = 100\n",
    "print(id(x), id(y))  # Same id due to caching"
   ]
  }
 ],
 "metadata": {},
 "nbformat": 4,
 "nbformat_minor": 5
}