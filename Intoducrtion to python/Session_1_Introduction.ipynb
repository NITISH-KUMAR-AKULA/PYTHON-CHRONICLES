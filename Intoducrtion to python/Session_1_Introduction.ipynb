{
 "cells": [
  {
   "cell_type": "markdown",
   "id": "265569e7",
   "metadata": {},
   "source": [
    "# 🐍 Python Session 1 – Introduction"
   ]
  },
  {
   "cell_type": "markdown",
   "id": "abb13928",
   "metadata": {},
   "source": [
    "## What is Python?\n",
    "Python is a high-level, interpreted, general-purpose programming language created by Guido van Rossum in 1991."
   ]
  },
  {
   "cell_type": "markdown",
   "id": "ea1399fd",
   "metadata": {},
   "source": [
    "### Features of Python:\n",
    "- Simple and easy to learn\n",
    "- Open-source\n",
    "- Dynamically typed\n",
    "- Portable\n",
    "- Huge community and libraries"
   ]
  },
  {
   "cell_type": "code",
   "execution_count": 1,
   "id": "29971f7d",
   "metadata": {},
   "outputs": [
    {
     "name": "stdout",
     "output_type": "stream",
     "text": [
      "Hello, World!\n"
     ]
    }
   ],
   "source": [
    "print(\"Hello, World!\")  # First Python program"
   ]
  },
  {
   "cell_type": "markdown",
   "id": "4bf1a739",
   "metadata": {},
   "source": [
    "### Comments in Python"
   ]
  },
  {
   "cell_type": "code",
   "execution_count": 2,
   "id": "02d08b6e",
   "metadata": {},
   "outputs": [
    {
     "name": "stdout",
     "output_type": "stream",
     "text": [
      "Single-line comment above\n"
     ]
    }
   ],
   "source": [
    "# This is a single-line comment\n",
    "print(\"Single-line comment above\")"
   ]
  },
  {
   "cell_type": "code",
   "execution_count": 3,
   "id": "1366b412",
   "metadata": {},
   "outputs": [
    {
     "name": "stdout",
     "output_type": "stream",
     "text": [
      "Multi-line comment example\n"
     ]
    }
   ],
   "source": [
    "\"\"\"This is a\n",
    "multi-line comment\"\"\"\n",
    "print(\"Multi-line comment example\")"
   ]
  },
  {
   "cell_type": "markdown",
   "id": "29acaa9e",
   "metadata": {},
   "source": [
    "### Indentation in Python"
   ]
  },
  {
   "cell_type": "code",
   "execution_count": 4,
   "id": "0d52dec6",
   "metadata": {},
   "outputs": [
    {
     "name": "stdout",
     "output_type": "stream",
     "text": [
      "This is indented correctly\n"
     ]
    }
   ],
   "source": [
    "if True:\n",
    "    print(\"This is indented correctly\")  # 4 spaces indentation"
   ]
  }
 ],
 "metadata": {
  "kernelspec": {
   "display_name": "ANK",
   "language": "python",
   "name": "python3"
  },
  "language_info": {
   "codemirror_mode": {
    "name": "ipython",
    "version": 3
   },
   "file_extension": ".py",
   "mimetype": "text/x-python",
   "name": "python",
   "nbconvert_exporter": "python",
   "pygments_lexer": "ipython3",
   "version": "3.10.15"
  }
 },
 "nbformat": 4,
 "nbformat_minor": 5
}
