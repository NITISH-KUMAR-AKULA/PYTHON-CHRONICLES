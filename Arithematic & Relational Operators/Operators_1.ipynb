{
  "nbformat": 4,
  "nbformat_minor": 0,
  "metadata": {
    "colab": {
      "provenance": []
    },
    "kernelspec": {
      "name": "python3",
      "display_name": "Python 3"
    },
    "language_info": {
      "name": "python"
    }
  },
  "cells": [
    {
      "cell_type": "markdown",
      "source": [
        "# Python Operators – Arithmetic & Relational\n",
        "\n",
        "This notebook covers the fundamentals of operators in Python, focusing on two main categories: Arithmetic Operators and Relational Operators. Operators are special symbols in Python that perform operations on variables and values."
      ],
      "metadata": {
        "id": "Ut13IHFA4qzq"
      }
    },
    {
      "cell_type": "markdown",
      "source": [
        "# **🔹 What is an Operator in Python?**\n",
        "\n",
        "An operator is just a symbol or keyword that performs an operation on one or more values (called operands)."
      ],
      "metadata": {
        "id": "mfepiUt3rIqt"
      }
    },
    {
      "cell_type": "markdown",
      "source": [
        "# **🔹 Types of Operators in Python**\n",
        "\n",
        "Python has 7 main categories of operators:\n",
        "\n",
        "1. Arithematics Operator\n",
        "2. comparitive/relatioanal operator\n",
        "3. assignment operator\n",
        "4. logical operator\n",
        "5. bitwise opearotr\n",
        "6. associate operator\n",
        "7. membership operator"
      ],
      "metadata": {
        "id": "XcS0QeeyrSqv"
      }
    },
    {
      "cell_type": "markdown",
      "source": [
        "# **1. Arithmetic Operators (Math stuff)**\n",
        "\n",
        "Used for basic mathematical operations:\n",
        "\n",
        "'+' → Addition\n",
        "\n",
        "'-' → Subtraction\n",
        "\n",
        "'*' → Multiplication\n",
        "\n",
        "/ → Division (gives float always)\n",
        "\n",
        "// → Floor Division (gives integer part only)\n",
        "\n",
        "% → Modulus (remainder)\n",
        "\n",
        "** → Exponentiation (power)"
      ],
      "metadata": {
        "id": "UiROwIv2rzQo"
      }
    },
    {
      "cell_type": "code",
      "execution_count": 6,
      "metadata": {
        "id": "lku9Fx9rq2Th"
      },
      "outputs": [],
      "source": [
        "# examples\n",
        "\n",
        "num1 = 45\n",
        "num2 = 54\n",
        "num3 = 56"
      ]
    },
    {
      "cell_type": "code",
      "source": [
        "# addition\n",
        "add = num1+num2\n",
        "print(add) # print() function used to display the value"
      ],
      "metadata": {
        "colab": {
          "base_uri": "https://localhost:8080/"
        },
        "id": "mVah6uVssODc",
        "outputId": "8a3b7e36-0d9b-4e37-d8b6-8283a7d34529"
      },
      "execution_count": 7,
      "outputs": [
        {
          "output_type": "stream",
          "name": "stdout",
          "text": [
            "99\n"
          ]
        }
      ]
    },
    {
      "cell_type": "code",
      "source": [
        "# subtraction\n",
        "sub = num2-num3\n",
        "print(sub)"
      ],
      "metadata": {
        "colab": {
          "base_uri": "https://localhost:8080/"
        },
        "id": "eLRuumpsscJ0",
        "outputId": "ee904797-7bf3-4d3c-f022-4862583f6ae9"
      },
      "execution_count": 9,
      "outputs": [
        {
          "output_type": "stream",
          "name": "stdout",
          "text": [
            "-2\n"
          ]
        }
      ]
    },
    {
      "cell_type": "code",
      "source": [
        "# multipication\n",
        "mul = sub*add\n",
        "print(mul)"
      ],
      "metadata": {
        "colab": {
          "base_uri": "https://localhost:8080/"
        },
        "id": "CYS5h0cFsjRl",
        "outputId": "0e34cbe1-20ac-42d8-baa5-442d802298d6"
      },
      "execution_count": 12,
      "outputs": [
        {
          "output_type": "stream",
          "name": "stdout",
          "text": [
            "-198\n"
          ]
        }
      ]
    },
    {
      "cell_type": "code",
      "source": [
        "# divison\n",
        "num1/num2\n"
      ],
      "metadata": {
        "colab": {
          "base_uri": "https://localhost:8080/"
        },
        "id": "b36nV38GsoDd",
        "outputId": "50afc85a-6e80-464c-8dcd-512cbc28568a"
      },
      "execution_count": 13,
      "outputs": [
        {
          "output_type": "execute_result",
          "data": {
            "text/plain": [
              "0.8333333333333334"
            ]
          },
          "metadata": {},
          "execution_count": 13
        }
      ]
    },
    {
      "cell_type": "code",
      "source": [
        "# modulo returns the reminder 45/54\n",
        "num1%num2"
      ],
      "metadata": {
        "colab": {
          "base_uri": "https://localhost:8080/"
        },
        "id": "cFwgZQ9gtLMJ",
        "outputId": "11fd3c18-646d-4018-ae89-8142cb666b4c"
      },
      "execution_count": 15,
      "outputs": [
        {
          "output_type": "execute_result",
          "data": {
            "text/plain": [
              "45"
            ]
          },
          "metadata": {},
          "execution_count": 15
        }
      ]
    },
    {
      "cell_type": "code",
      "source": [
        "# floor return the int of quotient 45/54\n",
        "num1//num2"
      ],
      "metadata": {
        "colab": {
          "base_uri": "https://localhost:8080/"
        },
        "id": "UCqGjtXJtT4T",
        "outputId": "cdc77666-99b7-4fc8-ab60-aae09bb3eb53"
      },
      "execution_count": 16,
      "outputs": [
        {
          "output_type": "execute_result",
          "data": {
            "text/plain": [
              "0"
            ]
          },
          "metadata": {},
          "execution_count": 16
        }
      ]
    },
    {
      "cell_type": "code",
      "source": [
        "# exponential 45 to the power of 2\n",
        "num1**2"
      ],
      "metadata": {
        "colab": {
          "base_uri": "https://localhost:8080/"
        },
        "id": "hAl854LYtkzd",
        "outputId": "48d2377e-ce19-4957-bb48-29c7d89b95ec"
      },
      "execution_count": 18,
      "outputs": [
        {
          "output_type": "execute_result",
          "data": {
            "text/plain": [
              "2025"
            ]
          },
          "metadata": {},
          "execution_count": 18
        }
      ]
    },
    {
      "cell_type": "markdown",
      "source": [
        "**for string data type  (string is a basic or also called as collection datatype in which the values are stored under ' ',\" \",\"\"\"  \"\"\",'''  ''') any values alphanumeirc and special symbols**\n",
        " 1. concatenation (combination of string and string)\n",
        " 2. repetation (combination of string and integer)\n"
      ],
      "metadata": {
        "id": "TjQrz7BEuVuX"
      }
    },
    {
      "cell_type": "code",
      "source": [
        "# 1. concatenation\n",
        "string1 = 'Nitish'\n",
        "string2 = ' Kumar'\n",
        "string1 + string2\n",
        "\n"
      ],
      "metadata": {
        "colab": {
          "base_uri": "https://localhost:8080/",
          "height": 35
        },
        "id": "_XyRn8jot9eo",
        "outputId": "c0058f58-1f96-4ef6-906b-d77518fad86c"
      },
      "execution_count": 20,
      "outputs": [
        {
          "output_type": "execute_result",
          "data": {
            "text/plain": [
              "'Nitish Kumar'"
            ],
            "application/vnd.google.colaboratory.intrinsic+json": {
              "type": "string"
            }
          },
          "metadata": {},
          "execution_count": 20
        }
      ]
    },
    {
      "cell_type": "code",
      "source": [
        "# Repetation\n",
        "string1*2"
      ],
      "metadata": {
        "colab": {
          "base_uri": "https://localhost:8080/",
          "height": 35
        },
        "id": "uGVuAwAFvLig",
        "outputId": "e93309f8-4ede-44de-dbff-3552cfd5853e"
      },
      "execution_count": 23,
      "outputs": [
        {
          "output_type": "execute_result",
          "data": {
            "text/plain": [
              "'NitishNitish'"
            ],
            "application/vnd.google.colaboratory.intrinsic+json": {
              "type": "string"
            }
          },
          "metadata": {},
          "execution_count": 23
        }
      ]
    },
    {
      "cell_type": "markdown",
      "source": [
        "# 2. Comparison (Relational) Operators\n",
        "\n",
        "Used to compare values (result is always True or False).\n",
        "\n",
        "== → equal to\n",
        "\n",
        "!= → not equal\n",
        "\n",
        "'>' → greater than\n",
        "\n",
        "< → less than\n",
        "\n",
        "'>=' → greater than or equal to\n",
        "\n",
        "<= → less than or equal to"
      ],
      "metadata": {
        "id": "DJ1eRKL7vjdr"
      }
    },
    {
      "cell_type": "code",
      "source": [
        "# examples\n",
        "\n",
        "num1 = 45\n",
        "num2 = 54\n",
        "num3 = 56"
      ],
      "metadata": {
        "id": "XYtw0QsRv726"
      },
      "execution_count": 26,
      "outputs": []
    },
    {
      "cell_type": "code",
      "source": [
        "# equal to (45 == 54)\n",
        "num1 == num2"
      ],
      "metadata": {
        "colab": {
          "base_uri": "https://localhost:8080/"
        },
        "id": "OaqGvWEnvQ1h",
        "outputId": "d1839c63-a4f4-4c0d-d495-c4735ed54135"
      },
      "execution_count": 25,
      "outputs": [
        {
          "output_type": "execute_result",
          "data": {
            "text/plain": [
              "False"
            ]
          },
          "metadata": {},
          "execution_count": 25
        }
      ]
    },
    {
      "cell_type": "code",
      "source": [
        "# not equal to\n",
        "num1 != num3"
      ],
      "metadata": {
        "colab": {
          "base_uri": "https://localhost:8080/"
        },
        "id": "8yNbthrmv22k",
        "outputId": "01ef5202-a418-4d48-f16d-92eee049575f"
      },
      "execution_count": 27,
      "outputs": [
        {
          "output_type": "execute_result",
          "data": {
            "text/plain": [
              "True"
            ]
          },
          "metadata": {},
          "execution_count": 27
        }
      ]
    },
    {
      "cell_type": "code",
      "source": [
        "# greater than\n",
        "num1 > num2"
      ],
      "metadata": {
        "colab": {
          "base_uri": "https://localhost:8080/"
        },
        "id": "qLE61T6jwY85",
        "outputId": "950aa834-35c7-4687-c37a-41fc29a99061"
      },
      "execution_count": 28,
      "outputs": [
        {
          "output_type": "execute_result",
          "data": {
            "text/plain": [
              "False"
            ]
          },
          "metadata": {},
          "execution_count": 28
        }
      ]
    },
    {
      "cell_type": "code",
      "source": [
        "# less than\n",
        "num1 < num2"
      ],
      "metadata": {
        "colab": {
          "base_uri": "https://localhost:8080/"
        },
        "id": "Ym3AhIHzwgpQ",
        "outputId": "c81568ca-3913-4346-d05d-a6237490c1bd"
      },
      "execution_count": 29,
      "outputs": [
        {
          "output_type": "execute_result",
          "data": {
            "text/plain": [
              "True"
            ]
          },
          "metadata": {},
          "execution_count": 29
        }
      ]
    },
    {
      "cell_type": "code",
      "source": [
        "# greater than equal to\n",
        "num1 >= num3"
      ],
      "metadata": {
        "colab": {
          "base_uri": "https://localhost:8080/"
        },
        "id": "zv4UqRy7wj1Q",
        "outputId": "d944fa64-d8a8-46cc-cac4-da35995f772f"
      },
      "execution_count": 33,
      "outputs": [
        {
          "output_type": "execute_result",
          "data": {
            "text/plain": [
              "False"
            ]
          },
          "metadata": {},
          "execution_count": 33
        }
      ]
    },
    {
      "cell_type": "code",
      "source": [
        "# lessthan equal to\n",
        "num1 <= num2\n"
      ],
      "metadata": {
        "colab": {
          "base_uri": "https://localhost:8080/"
        },
        "id": "0oCaSkrDwqZK",
        "outputId": "e0c49dfc-033b-4882-a3e8-2ef47c916a66"
      },
      "execution_count": 32,
      "outputs": [
        {
          "output_type": "execute_result",
          "data": {
            "text/plain": [
              "True"
            ]
          },
          "metadata": {},
          "execution_count": 32
        }
      ]
    },
    {
      "cell_type": "markdown",
      "source": [
        "# For string data relaional operatora uses the Ascii values of the character"
      ],
      "metadata": {
        "id": "Jt6dXTjKw5wZ"
      }
    },
    {
      "cell_type": "markdown",
      "source": [
        "🔹 What is ASCII?\n",
        "\n",
        "ASCII = American Standard Code for Information Interchange.\n",
        "\n",
        "It assigns a number (0–127) to each character (letters, digits, symbols, control chars).\n",
        "\n",
        "Example:\n",
        "\n",
        "'A' → 65\n",
        "\n",
        "'a' → 97\n",
        "\n",
        "'0' → 48\n",
        "\n",
        "' ' (space) → 32\n",
        "\n",
        "So every character has a unique numeric code."
      ],
      "metadata": {
        "id": "qd6hRTDfxX6F"
      }
    },
    {
      "cell_type": "markdown",
      "source": [
        "# But how do they compare?\n",
        "👉 They use ASCII/Unicode values of characters, compared lexicographically (like a dictionary order).\n",
        "\n",
        "# How it works internally\n",
        "\n",
        "Compare first character of each string.\n",
        "\n",
        "If they’re equal, move to the next character.\n",
        "\n",
        "Stops when a difference is found (or end of string)."
      ],
      "metadata": {
        "id": "V1r-DaWIykVv"
      }
    },
    {
      "cell_type": "code",
      "source": [
        "# example\n",
        "print(\"abc\" < \"abd\")   # True (first 2 same, 'c'(99) < 'd'(100))\n",
        "print(\"abc\" < \"ab\")    # False ('abc' longer than 'ab')\n"
      ],
      "metadata": {
        "colab": {
          "base_uri": "https://localhost:8080/"
        },
        "id": "Z_pOydiey2O_",
        "outputId": "e636b6f5-62dc-4b59-f79f-876ec82520de"
      },
      "execution_count": 41,
      "outputs": [
        {
          "output_type": "stream",
          "name": "stdout",
          "text": [
            "True\n",
            "False\n"
          ]
        }
      ]
    },
    {
      "cell_type": "code",
      "source": [
        "#example\n",
        "string1"
      ],
      "metadata": {
        "colab": {
          "base_uri": "https://localhost:8080/",
          "height": 35
        },
        "id": "FnXiAinEwwcC",
        "outputId": "d6b7472b-5a29-4c1b-e4de-7e4587dfde50"
      },
      "execution_count": 34,
      "outputs": [
        {
          "output_type": "execute_result",
          "data": {
            "text/plain": [
              "'Nitish'"
            ],
            "application/vnd.google.colaboratory.intrinsic+json": {
              "type": "string"
            }
          },
          "metadata": {},
          "execution_count": 34
        }
      ]
    },
    {
      "cell_type": "code",
      "source": [
        "# string2\n",
        "string2"
      ],
      "metadata": {
        "colab": {
          "base_uri": "https://localhost:8080/",
          "height": 35
        },
        "id": "ssZ896gDxrKB",
        "outputId": "94b9a1d0-34e9-4a41-ed9a-3f778f0b8db4"
      },
      "execution_count": 36,
      "outputs": [
        {
          "output_type": "execute_result",
          "data": {
            "text/plain": [
              "' Kumar'"
            ],
            "application/vnd.google.colaboratory.intrinsic+json": {
              "type": "string"
            }
          },
          "metadata": {},
          "execution_count": 36
        }
      ]
    },
    {
      "cell_type": "code",
      "source": [
        "string1 == string2"
      ],
      "metadata": {
        "colab": {
          "base_uri": "https://localhost:8080/"
        },
        "id": "ln_UbbUSxsPp",
        "outputId": "f0a0b8b8-44e5-4ece-d7a9-7efb7c2c512b"
      },
      "execution_count": 37,
      "outputs": [
        {
          "output_type": "execute_result",
          "data": {
            "text/plain": [
              "False"
            ]
          },
          "metadata": {},
          "execution_count": 37
        }
      ]
    },
    {
      "cell_type": "code",
      "source": [
        "string1 < string2"
      ],
      "metadata": {
        "colab": {
          "base_uri": "https://localhost:8080/"
        },
        "id": "FambH4HZxxDp",
        "outputId": "56f04217-be98-47bd-c109-42b47cd21c4c"
      },
      "execution_count": 38,
      "outputs": [
        {
          "output_type": "execute_result",
          "data": {
            "text/plain": [
              "False"
            ]
          },
          "metadata": {},
          "execution_count": 38
        }
      ]
    },
    {
      "cell_type": "code",
      "source": [
        "string1 > string2"
      ],
      "metadata": {
        "colab": {
          "base_uri": "https://localhost:8080/"
        },
        "id": "SVypzCxhx9dq",
        "outputId": "e00bccb9-ddd1-41ed-c03a-826e7bfeafb4"
      },
      "execution_count": 39,
      "outputs": [
        {
          "output_type": "execute_result",
          "data": {
            "text/plain": [
              "True"
            ]
          },
          "metadata": {},
          "execution_count": 39
        }
      ]
    },
    {
      "cell_type": "markdown",
      "source": [
        "# **ASCII VALUES:**\n",
        "\n",
        "1. **Lowercase letters (a–z)**\n",
        "2. **Uppercase letters (A–Z)**\n",
        "3. **Digits (0–9)**\n",
        "4. **Special characters**\n",
        "\n",
        "Here’s the table in that exact structure:\n",
        "\n",
        "---\n",
        "\n",
        "## 🔹 ASCII Table (Grouped)\n",
        "\n",
        "### ✅ Lowercase Letters (a–z)\n",
        "\n",
        "| Char | ASCII | Char | ASCII | Char | ASCII | Char | ASCII |\n",
        "| ---- | ----- | ---- | ----- | ---- | ----- | ---- | ----- |\n",
        "| a    | 97    | h    | 104   | o    | 111   | v    | 118   |\n",
        "| b    | 98    | i    | 105   | p    | 112   | w    | 119   |\n",
        "| c    | 99    | j    | 106   | q    | 113   | x    | 120   |\n",
        "| d    | 100   | k    | 107   | r    | 114   | y    | 121   |\n",
        "| e    | 101   | l    | 108   | s    | 115   | z    | 122   |\n",
        "| f    | 102   | m    | 109   | t    | 116   |      |       |\n",
        "| g    | 103   | n    | 110   | u    | 117   |      |       |\n",
        "\n",
        "---\n",
        "\n",
        "### ✅ Uppercase Letters (A–Z)\n",
        "\n",
        "| Char | ASCII | Char | ASCII | Char | ASCII | Char | ASCII |\n",
        "| ---- | ----- | ---- | ----- | ---- | ----- | ---- | ----- |\n",
        "| A    | 65    | H    | 72    | O    | 79    | V    | 86    |\n",
        "| B    | 66    | I    | 73    | P    | 80    | W    | 87    |\n",
        "| C    | 67    | J    | 74    | Q    | 81    | X    | 88    |\n",
        "| D    | 68    | K    | 75    | R    | 82    | Y    | 89    |\n",
        "| E    | 69    | L    | 76    | S    | 83    | Z    | 90    |\n",
        "| F    | 70    | M    | 77    | T    | 84    |      |       |\n",
        "| G    | 71    | N    | 78    | U    | 85    |      |       |\n",
        "\n",
        "---\n",
        "\n",
        "### ✅ Digits (0–9)\n",
        "\n",
        "| Char | ASCII | Char | ASCII | Char | ASCII | Char | ASCII |\n",
        "| ---- | ----- | ---- | ----- | ---- | ----- | ---- | ----- |\n",
        "| 0    | 48    | 3    | 51    | 6    | 54    | 9    | 57    |\n",
        "| 1    | 49    | 4    | 52    | 7    | 55    |      |       |\n",
        "| 2    | 50    | 5    | 53    | 8    | 56    |      |       |\n",
        "\n",
        "---\n",
        "\n",
        "### ✅ Special Characters\n",
        "\n",
        "| Char    | ASCII | Char | ASCII | Char | ASCII | Char | ASCII |     |\n",
        "| ------- | ----- | ---- | ----- | ---- | ----- | ---- | ----- | --- |\n",
        "| (space) | 32    | /    | 47    | :    | 58    | ?    | 63    |     |\n",
        "| !       | 33    | @    | 64    | ;    | 59    | \\[   | 91    |     |\n",
        "| \"       | 34    | \\[   | 91    | <    | 60    | \\\\   | 92    |     |\n",
        "| #       | 35    | \\\\   | 92    | =    | 61    | ]    | 93    |     |\n",
        "| \\$      | 36    | ]    | 93    | >    | 62    | ^    | 94    |     |\n",
        "| %       | 37    | ^    | 94    | \\`   | 96    | {    | 123   |     |\n",
        "| &       | 38    | \\_   | 95    | {    | 123   |      |       | 124 |\n",
        "| '       | 39    | \\`   | 96    |      |       | 124  | }     | 125 |\n",
        "| (       | 40    | {    | 123   | }    | 125   | \\~   | 126   |     |\n",
        "| )       | 41    | }    | 125   | \\~   | 126   |      |       |     |\n",
        "| \\*      | 42    |      |       |      |       |      |       |     |\n",
        "| +       | 43    |      |       |      |       |      |       |     |\n",
        "| ,       | 44    |      |       |      |       |      |       |     |\n",
        "| -       | 45    |      |       |      |       |      |       |     |\n",
        "| .       | 46    |      |       |      |       |      |       |     |\n",
        "\n",
        "---\n",
        "\n",
        "\n",
        "\n"
      ],
      "metadata": {
        "id": "zZB5wDvKzTlO"
      }
    },
    {
      "cell_type": "markdown",
      "source": [
        "To find the value of charcted:\n",
        "# ord()\n",
        "\n",
        "To find the character for the value:\n",
        "# chr()"
      ],
      "metadata": {
        "id": "7gZnhXBh0P29"
      }
    },
    {
      "cell_type": "code",
      "source": [
        "ord('A')"
      ],
      "metadata": {
        "colab": {
          "base_uri": "https://localhost:8080/"
        },
        "id": "mAx8Ce1H0OEX",
        "outputId": "cfb68708-b766-4fab-d935-4091feecadec"
      },
      "execution_count": 42,
      "outputs": [
        {
          "output_type": "execute_result",
          "data": {
            "text/plain": [
              "65"
            ]
          },
          "metadata": {},
          "execution_count": 42
        }
      ]
    },
    {
      "cell_type": "code",
      "source": [
        "chr(65)"
      ],
      "metadata": {
        "colab": {
          "base_uri": "https://localhost:8080/",
          "height": 35
        },
        "id": "RqNsqvL0yEPF",
        "outputId": "eef1f459-0b23-408f-e176-30fc83df587a"
      },
      "execution_count": 43,
      "outputs": [
        {
          "output_type": "execute_result",
          "data": {
            "text/plain": [
              "'A'"
            ],
            "application/vnd.google.colaboratory.intrinsic+json": {
              "type": "string"
            }
          },
          "metadata": {},
          "execution_count": 43
        }
      ]
    },
    {
      "cell_type": "code",
      "source": [],
      "metadata": {
        "id": "GcnjRROs0qlW"
      },
      "execution_count": null,
      "outputs": []
    }
  ]
}